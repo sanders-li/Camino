{
 "cells": [
  {
   "cell_type": "code",
   "execution_count": 4,
   "metadata": {},
   "outputs": [
    {
     "data": {
      "text/plain": [
       "'C:\\\\Users\\\\SandersLi\\\\Camino'"
      ]
     },
     "execution_count": 4,
     "metadata": {},
     "output_type": "execute_result"
    }
   ],
   "source": [
    "import os\n",
    "import tensorflow as tf\n",
    "import tensorflow_hub as hub\n",
    "import matplotlib.pyplot as plt\n",
    "import numpy as np\n",
    "import pandas as pd\n",
    "import seaborn as sns\n",
    "import zipfile\n",
    "\n",
    "from sklearn import model_selection\n",
    "\n",
    "os.getcwd()"
   ]
  },
  {
   "cell_type": "code",
   "execution_count": 6,
   "metadata": {},
   "outputs": [
    {
     "name": "stdout",
     "output_type": "stream",
     "text": [
      "Split the training data into 140315 training and 15745 validation examples.\n"
     ]
    }
   ],
   "source": [
    "SENTIMENT_LABELS = [\n",
    "    \"negative\", \"somewhat negative\", \"neutral\", \"somewhat positive\", \"positive\"\n",
    "]\n",
    "\n",
    "# Add a column with readable values representing the sentiment.\n",
    "def add_readable_labels_column(df, sentiment_value_column):\n",
    "  df[\"SentimentLabel\"] = df[sentiment_value_column].replace(\n",
    "      range(5), SENTIMENT_LABELS)\n",
    "    \n",
    "# Download data from Kaggle and create a DataFrame.\n",
    "def load_data_from_zip(path):\n",
    "  with zipfile.ZipFile(path, \"r\") as zip_ref:\n",
    "    name = zip_ref.namelist()[0]\n",
    "    with zip_ref.open(name) as zf:\n",
    "      return pd.read_csv(zf, sep=\"\\t\", index_col=0)\n",
    "\n",
    "\n",
    "# The data does not come with a validation set so we'll create one from the\n",
    "# training set.\n",
    "def get_data(competition, train_file, test_file, validation_set_ratio=0.1):\n",
    "  train_df = load_data_from_zip(train_file)\n",
    "  test_df = load_data_from_zip(test_file)\n",
    "\n",
    "  # Add a human readable label.\n",
    "  add_readable_labels_column(train_df, \"Sentiment\")\n",
    "\n",
    "  # We split by sentence ids, because we don't want to have phrases belonging\n",
    "  # to the same sentence in both training and validation set.\n",
    "  train_indices, validation_indices = model_selection.train_test_split(\n",
    "      np.unique(train_df[\"SentenceId\"]),\n",
    "      test_size=validation_set_ratio,\n",
    "      random_state=0)\n",
    "\n",
    "  validation_df = train_df[train_df[\"SentenceId\"].isin(validation_indices)]\n",
    "  train_df = train_df[train_df[\"SentenceId\"].isin(train_indices)]\n",
    "  print(\"Split the training data into %d training and %d validation examples.\" %\n",
    "        (len(train_df), len(validation_df)))\n",
    "\n",
    "  return train_df, validation_df, test_df\n",
    "\n",
    "\n",
    "train_df, validation_df, test_df = get_data(\n",
    "    \"sentiment-analysis-on-movie-reviews\",\n",
    "    \"train.tsv.zip\", \"test.tsv.zip\")"
   ]
  },
  {
   "cell_type": "code",
   "execution_count": 7,
   "metadata": {},
   "outputs": [],
   "source": [
    "class MyModel(tf.keras.Model):\n",
    "  def __init__(self, hub_url):\n",
    "    super().__init__()\n",
    "    self.hub_url = hub_url\n",
    "    self.embed = hub.load(self.hub_url).signatures['default']\n",
    "    self.sequential = tf.keras.Sequential([\n",
    "      tf.keras.layers.Dense(500),\n",
    "      tf.keras.layers.Dense(100),\n",
    "      tf.keras.layers.Dense(5),\n",
    "    ])\n",
    "\n",
    "  def call(self, inputs):\n",
    "    phrases = inputs['Phrase'][:,0]\n",
    "    embedding = 5*self.embed(phrases)['default']\n",
    "    return self.sequential(embedding)\n",
    "\n",
    "  def get_config(self):\n",
    "    return {\"hub_url\":self.hub_url}"
   ]
  },
  {
   "cell_type": "code",
   "execution_count": 8,
   "metadata": {},
   "outputs": [],
   "source": [
    "model = MyModel(\"https://tfhub.dev/google/nnlm-en-dim128/1\")\n",
    "model.compile(\n",
    "    loss = tf.losses.SparseCategoricalCrossentropy(from_logits=True),\n",
    "    optimizer=tf.optimizers.Adam(), \n",
    "    metrics = [tf.keras.metrics.SparseCategoricalAccuracy(name=\"accuracy\")])"
   ]
  },
  {
   "cell_type": "code",
   "execution_count": 9,
   "metadata": {},
   "outputs": [
    {
     "name": "stdout",
     "output_type": "stream",
     "text": [
      "Epoch 1/25\n",
      "4385/4385 [==============================] - 16s 4ms/step - loss: 1.0235 - accuracy: 0.5862 - val_loss: 1.0020 - val_accuracy: 0.5912\n",
      "Epoch 2/25\n",
      "4385/4385 [==============================] - 15s 4ms/step - loss: 0.9997 - accuracy: 0.5944 - val_loss: 0.9926 - val_accuracy: 0.5923\n",
      "Epoch 3/25\n",
      "4385/4385 [==============================] - 16s 4ms/step - loss: 0.9955 - accuracy: 0.5965 - val_loss: 0.9946 - val_accuracy: 0.5915\n",
      "Epoch 4/25\n",
      "4385/4385 [==============================] - 16s 4ms/step - loss: 0.9930 - accuracy: 0.5972 - val_loss: 0.9830 - val_accuracy: 0.5916\n",
      "Epoch 5/25\n",
      "4385/4385 [==============================] - 15s 4ms/step - loss: 0.9919 - accuracy: 0.5982 - val_loss: 0.9824 - val_accuracy: 0.5989\n",
      "Epoch 6/25\n",
      "4385/4385 [==============================] - 17s 4ms/step - loss: 0.9908 - accuracy: 0.5985 - val_loss: 0.9883 - val_accuracy: 0.5906\n",
      "Epoch 7/25\n",
      "4385/4385 [==============================] - 21s 5ms/step - loss: 0.9899 - accuracy: 0.5991 - val_loss: 0.9815 - val_accuracy: 0.5994\n",
      "Epoch 8/25\n",
      "4385/4385 [==============================] - 16s 4ms/step - loss: 0.9895 - accuracy: 0.5980 - val_loss: 0.9762 - val_accuracy: 0.5985\n",
      "Epoch 9/25\n",
      "4385/4385 [==============================] - 16s 4ms/step - loss: 0.9889 - accuracy: 0.5990 - val_loss: 0.9762 - val_accuracy: 0.5964\n",
      "Epoch 10/25\n",
      "4385/4385 [==============================] - 16s 4ms/step - loss: 0.9885 - accuracy: 0.5979 - val_loss: 0.9910 - val_accuracy: 0.5906\n",
      "Epoch 11/25\n",
      "4385/4385 [==============================] - 16s 4ms/step - loss: 0.9882 - accuracy: 0.5986 - val_loss: 0.9795 - val_accuracy: 0.5983\n",
      "Epoch 12/25\n",
      "4385/4385 [==============================] - 17s 4ms/step - loss: 0.9878 - accuracy: 0.5995 - val_loss: 0.9788 - val_accuracy: 0.5954\n",
      "Epoch 13/25\n",
      "4385/4385 [==============================] - 16s 4ms/step - loss: 0.9873 - accuracy: 0.5990 - val_loss: 0.9756 - val_accuracy: 0.6004\n",
      "Epoch 14/25\n",
      "4385/4385 [==============================] - 16s 4ms/step - loss: 0.9870 - accuracy: 0.5997 - val_loss: 0.9854 - val_accuracy: 0.5975\n",
      "Epoch 15/25\n",
      "4385/4385 [==============================] - 17s 4ms/step - loss: 0.9867 - accuracy: 0.5996 - val_loss: 0.9786 - val_accuracy: 0.5945\n",
      "Epoch 16/25\n",
      "4385/4385 [==============================] - 17s 4ms/step - loss: 0.9868 - accuracy: 0.5996 - val_loss: 0.9783 - val_accuracy: 0.5959\n",
      "Epoch 17/25\n",
      "4385/4385 [==============================] - 17s 4ms/step - loss: 0.9864 - accuracy: 0.5999 - val_loss: 0.9880 - val_accuracy: 0.5876\n",
      "Epoch 18/25\n",
      "4385/4385 [==============================] - 16s 4ms/step - loss: 0.9867 - accuracy: 0.5992 - val_loss: 0.9806 - val_accuracy: 0.5941\n",
      "Epoch 19/25\n",
      "4385/4385 [==============================] - 16s 4ms/step - loss: 0.9864 - accuracy: 0.5991 - val_loss: 0.9744 - val_accuracy: 0.5954\n",
      "Epoch 20/25\n",
      "4385/4385 [==============================] - 17s 4ms/step - loss: 0.9861 - accuracy: 0.5998 - val_loss: 0.9800 - val_accuracy: 0.5967\n",
      "Epoch 21/25\n",
      "4385/4385 [==============================] - 18s 4ms/step - loss: 0.9861 - accuracy: 0.6004 - val_loss: 0.9761 - val_accuracy: 0.6011\n",
      "Epoch 22/25\n",
      "4385/4385 [==============================] - 16s 4ms/step - loss: 0.9862 - accuracy: 0.5998 - val_loss: 0.9855 - val_accuracy: 0.5912\n",
      "Epoch 23/25\n",
      "4385/4385 [==============================] - 16s 4ms/step - loss: 0.9858 - accuracy: 0.6004 - val_loss: 0.9823 - val_accuracy: 0.5943\n",
      "Epoch 24/25\n",
      "4385/4385 [==============================] - 17s 4ms/step - loss: 0.9862 - accuracy: 0.5988 - val_loss: 0.9761 - val_accuracy: 0.5969\n",
      "Epoch 25/25\n",
      "4385/4385 [==============================] - 16s 4ms/step - loss: 0.9856 - accuracy: 0.6004 - val_loss: 0.9844 - val_accuracy: 0.5945\n"
     ]
    }
   ],
   "source": [
    "history = model.fit(x=dict(train_df), y=train_df['Sentiment'],\n",
    "          validation_data=(dict(validation_df), validation_df['Sentiment']),\n",
    "          epochs = 25)"
   ]
  },
  {
   "cell_type": "code",
   "execution_count": 10,
   "metadata": {},
   "outputs": [
    {
     "data": {
      "text/plain": [
       "[<matplotlib.lines.Line2D at 0x1ad9ef55760>]"
      ]
     },
     "execution_count": 10,
     "metadata": {},
     "output_type": "execute_result"
    },
    {
     "data": {
      "image/png": "[encoded data removed]",
      "text/plain": [
       "<Figure size 432x288 with 1 Axes>"
      ]
     },
     "metadata": {
      "needs_background": "light"
     },
     "output_type": "display_data"
    }
   ],
   "source": [
    "plt.plot(history.history['accuracy'])\n",
    "plt.plot(history.history['val_accuracy'])"
   ]
  },
  {
   "cell_type": "code",
   "execution_count": 11,
   "metadata": {},
   "outputs": [
    {
     "name": "stdout",
     "output_type": "stream",
     "text": [
      "4385/4385 [==============================] - 14s 3ms/step - loss: 0.9864 - accuracy: 0.5970\n",
      "493/493 [==============================] - 1s 2ms/step - loss: 0.9844 - accuracy: 0.5945\n",
      "Training set accuracy: 0.5969995856285095\n",
      "Validation set accuracy: 0.5945379734039307\n"
     ]
    }
   ],
   "source": [
    "train_eval_result = model.evaluate(dict(train_df), train_df['Sentiment'])\n",
    "validation_eval_result = model.evaluate(dict(validation_df), validation_df['Sentiment'])\n",
    "\n",
    "print(f\"Training set accuracy: {train_eval_result[1]}\")\n",
    "print(f\"Validation set accuracy: {validation_eval_result[1]}\")"
   ]
  }
 ],
 "metadata": {
  "kernelspec": {
   "display_name": "Python 3",
   "language": "python",
   "name": "python3"
  },
  "language_info": {
   "codemirror_mode": {
    "name": "ipython",
    "version": 3
   },
   "file_extension": ".py",
   "mimetype": "text/x-python",
   "name": "python",
   "nbconvert_exporter": "python",
   "pygments_lexer": "ipython3",
   "version": "3.8.3"
  }
 },
 "nbformat": 4,
 "nbformat_minor": 4
}
