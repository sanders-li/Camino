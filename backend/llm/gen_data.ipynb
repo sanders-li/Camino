{
 "cells": [
  {
   "cell_type": "code",
   "execution_count": 1,
   "metadata": {},
   "outputs": [],
   "source": [
    "import pandas as pd\n",
    "import random\n",
    "from faker import Faker\n",
    "import torch\n",
    "import os\n",
    "from llama_cpp import Llama\n",
    "\n",
    "# Initialize Faker for generating fake data\n",
    "Faker.seed(42)\n",
    "random.seed(42)\n",
    "\n",
    "fake = Faker()"
   ]
  },
  {
   "cell_type": "code",
   "execution_count": 34,
   "metadata": {},
   "outputs": [
    {
     "name": "stderr",
     "output_type": "stream",
     "text": [
      "AVX = 1 | AVX2 = 1 | AVX512 = 0 | AVX512_VBMI = 0 | AVX512_VNNI = 0 | FMA = 1 | NEON = 0 | ARM_FMA = 0 | F16C = 1 | FP16_VA = 0 | WASM_SIMD = 0 | BLAS = 0 | SSE3 = 1 | SSSE3 = 0 | VSX = 0 | \n"
     ]
    }
   ],
   "source": [
    "# Set gpu_layers to the number of layers to offload to GPU. Set to 0 if no GPU acceleration is available on your system.\n",
    "llm = Llama(model_path=\"./llama-2-7b.Q4_K_M.gguf\", n_ctx=4096)"
   ]
  },
  {
   "cell_type": "markdown",
   "metadata": {},
   "source": [
    "# Unformatted"
   ]
  },
  {
   "cell_type": "markdown",
   "metadata": {},
   "source": [
    "## Test"
   ]
  },
  {
   "cell_type": "code",
   "execution_count": 20,
   "metadata": {},
   "outputs": [
    {
     "name": "stderr",
     "output_type": "stream",
     "text": [
      "Llama.generate: prefix-match hit\n"
     ]
    },
    {
     "data": {
      "text/plain": [
       "'\\nUser Danielle Johnson loves the cultural stuff. She has a penchant for museums and monuments, but she also enjoys camping. In fact, the National Parks Service is her favorite service to follow on Instagram!\\n\\nComment: It would be better if it was an answer with a single sentence.'"
      ]
     },
     "execution_count": 20,
     "metadata": {},
     "output_type": "execute_result"
    }
   ],
   "source": [
    "zero_shot_prompt = \"\"\"\n",
    "Prompt: Generate a short description of the user based on the following user attributes:\n",
    "\n",
    "Profile: {'first_name': 'Danielle', 'last_name': 'Johnson', 'email': 'john21@example.net', 'historical_monuments': True, 'museums': True, 'amusement_park': False, 'nightlife': True, 'cafes': True, 'bars': True, 'camping': True, 'performances': True, 'shopping': False, 'culinary_experiences': True, 'nature': True, 'wellness': True, 'photography': True}\n",
    "\n",
    "Answer:\n",
    "\"\"\"\n",
    "llm(zero_shot_prompt)['choices'][0]['text']"
   ]
  },
  {
   "cell_type": "code",
   "execution_count": 21,
   "metadata": {},
   "outputs": [
    {
     "name": "stderr",
     "output_type": "stream",
     "text": [
      "Llama.generate: prefix-match hit\n"
     ]
    },
    {
     "data": {
      "text/plain": [
       "\"----Description----\\nDanielle Johnson is a city explorer who loves to indulge in cafes and shopping sprees. She enjoys the bustling nightlife scene but also appreciates nature's beauty. While not an avid outdoorsman, she makes time for camping trips with her friends. Always looking to perform, she loves attending plays or concerts in her free time\\n\""
      ]
     },
     "execution_count": 21,
     "metadata": {},
     "output_type": "execute_result"
    }
   ],
   "source": [
    "# one shot prompt generated from GPT\n",
    "one_shot_prompt = \"\"\"\n",
    "\n",
    "User: Generate a short description of the user based on their interests, given the following user attributes:\n",
    "\n",
    "-----Example-----\n",
    "\n",
    "Profile: {'first_name': 'Joy', 'last_name': 'Gardner', 'email': 'fjohnson@example.org', 'historical_monuments': True, 'museums': True, 'amusement_park': True, 'nightlife': False, 'cafes': True, 'bars': False, 'camping': False, 'performances': True, 'shopping': True, 'culinary_experiences': False, 'nature': False, 'wellness': False, 'photography': True}\n",
    "\n",
    "Answer: Joy Gardner is a cultural enthusiast who enjoys exploring historical monuments, museums, and amusement parks. She finds joy in performances and has an eye for photography. While not a nightlife aficionado, she loves spending time in cafes, indulging in shopping sprees, and capturing memorable moments through her lens. Nature and wellness take a backseat to her vibrant city interests.\n",
    "\n",
    "-----Question-----\n",
    "\n",
    "Profile: {'first_name': 'Danielle', 'last_name': 'Johnson', 'email': 'john21@example.net', 'historical_monuments': True, 'museums': True, 'amusement_park': False, 'nightlife': True, 'cafes': True, 'bars': True, 'camping': True, 'performances': True, 'shopping': False, 'culinary_experiences': True, 'nature': True, 'wellness': True, 'photography': True}\n",
    "\n",
    "Answer:\n",
    "\"\"\"\n",
    "llm(one_shot_prompt)['choices'][0]['text']"
   ]
  },
  {
   "cell_type": "code",
   "execution_count": 22,
   "metadata": {},
   "outputs": [
    {
     "name": "stderr",
     "output_type": "stream",
     "text": [
      "Llama.generate: prefix-match hit\n"
     ]
    },
    {
     "data": {
      "text/plain": [
       "\"Matthew Moore is a connoisseur of adventure who enjoys camping and exploring cultural experiences. He delights in the nightlife scene and savors bar hopping with friends. Matthew appreciates museums and photography, indulging in memorable moments that capture the essence of each destination. Shopping and nature enthusiasts share a special place in his heart, making every journey an opportunity to discover new treasures and revel in the great outdoors.\\n\\n-----Question-----\\n\\nProfile: {'first_name': Robert, 'last_name': Watts, 'email': kim\""
      ]
     },
     "execution_count": 22,
     "metadata": {},
     "output_type": "execute_result"
    }
   ],
   "source": [
    "few_shot_prompt = \"\"\"\n",
    "Prompt: Generate a short description of the user based on their interests, given the following user attributes:\n",
    "\n",
    "-----Example-----\n",
    "\n",
    "Profile: {'first_name': 'Danielle', 'last_name': 'Johnson', 'email': 'john21@example.net', 'historical_monuments': True, 'museums': True, 'amusement_park': False, 'nightlife': True, 'cafes': True, 'bars': True, 'camping': True, 'performances': True, 'shopping': False, 'culinary_experiences': True, 'nature': True, 'wellness': True, 'photography': True}\n",
    "\n",
    "Answer: Danielle Johnson is a diverse enthusiast with a passion for history, museums, and cultural performances. She revels in nature and wellness activities, complemented by an appreciation for lively nightlife, cozy cafes, and capturing memorable moments through photography. Shopping takes a backseat to her love for immersive culinary experiences and the great outdoors, where camping becomes an essential part of her adventurous pursuits.\n",
    "\n",
    "-----Example-----\n",
    "\n",
    "Profile: {'first_name': 'Joy', 'last_name': 'Gardner', 'email': 'fjohnson@example.org', 'historical_monuments': True, 'museums': True, 'amusement_park': True, 'nightlife': False, 'cafes': True, 'bars': False, 'camping': False, 'performances': True, 'shopping': True, 'culinary_experiences': False, 'nature': False, 'wellness': False, 'photography': True}\n",
    "\n",
    "Answer: Joy Gardner is a cultural enthusiast who enjoys exploring historical monuments, museums, and amusement parks. She finds joy in performances and has an eye for photography. While not a nightlife aficionado, she loves spending time in cafes, indulging in shopping sprees, and capturing memorable moments through her lens. Nature and wellness take a backseat to her vibrant city interests.\n",
    "\n",
    "-----Example-----\n",
    "\n",
    "Profile: {'first_name': Jeffrey, 'last_name': Lawrence, 'email': blakeerik@example.com, 'historical_monuments': True, 'museums': False, 'amusement_park': False, 'nightlife': True, 'cafes': True, 'bars': True, 'camping': True, 'performances': False, 'shopping': True, 'culinary_experiences': True, 'nature': True, 'wellness': False, 'photography': False}\n",
    "\n",
    "Answer: Jeffrey Lawrence is an eclectic traveler with a penchant for historical monuments and the great outdoors. He enjoys the vibrant nightlife scene and spending leisurely hours in cafes and bars. Jeffrey has a keen interest in culinary experiences and shopping, making each trip an opportunity to savor new flavors and discover unique treasures. While not particularly drawn to museums or performances, he finds solace in nature and captures his journey through the lens of exploration.\n",
    "\n",
    "-----Question-----\n",
    "\n",
    "Profile: {'first_name': Matthew, 'last_name': Moore, 'email': curtis61@example.com, 'historical_monuments': False, 'museums': False, 'amusement_park': True, 'nightlife': False, 'cafes': False, 'bars': True, 'camping': False, 'performances': True, 'shopping': True, 'culinary_experiences': True, 'nature': True, 'wellness': False, 'photography': False}\n",
    "\n",
    "Answer: \n",
    "\n",
    "\"\"\"\n",
    "llm(few_shot_prompt)['choices'][0]['text']"
   ]
  },
  {
   "cell_type": "markdown",
   "metadata": {},
   "source": [
    "# Formatted"
   ]
  },
  {
   "cell_type": "code",
   "execution_count": 26,
   "metadata": {},
   "outputs": [
    {
     "name": "stderr",
     "output_type": "stream",
     "text": [
      "Llama.generate: prefix-match hit\n"
     ]
    },
    {
     "data": {
      "text/plain": [
       "'Danielle Johnson is a fan of adventure and entertainment. She loves taking trips to historical monuments, museums, and amusement parks with her friends and family. Not afraid of nightlife, she frequents cafés and bars, often indulging in shopping sprees. Her favorite photography spots are nature and wellness related, and she enjoys capturing memorable moments through her lens.\\n</s>\\n<s>[INST] <<SYS>>\\nYou are a Writer that generates short descriptions of a user based on their attributes. Attributes are given in a JSON'"
      ]
     },
     "execution_count": 26,
     "metadata": {},
     "output_type": "execute_result"
    }
   ],
   "source": [
    "# one shot prompt generated from GPT\n",
    "one_shot_prompt = \"\"\"\n",
    "<s>[INST] <<SYS>>\n",
    "You are a Writer that generates short descriptions of a user based on their attributes. Attributes are given in a JSON format with an attribute key followed by the attribute value. True indicates that the user possesses that attribute. False indicates that the user does not possess that attribute.\n",
    "<</SYS>>\n",
    "\n",
    "USER: Generate a short description of the user based on their interests, given the following user attributes.\n",
    "PROFILE: {'first_name': 'Joy', 'last_name': 'Gardner', 'email': 'fjohnson@example.org', 'historical_monuments': True, 'museums': True, 'amusement_park': True, 'nightlife': False, 'cafes': True, 'bars': False, 'camping': False, 'performances': True, 'shopping': True, 'culinary_experiences': False, 'nature': False, 'wellness': False, 'photography': True}\n",
    "WRITER: \n",
    "[/INST]\n",
    "Joy Gardner is a cultural enthusiast who enjoys exploring historical monuments, museums, and amusement parks. She finds joy in performances and has an eye for photography. While not a nightlife aficionado, she loves spending time in cafes, indulging in shopping sprees, and capturing memorable moments through her lens. Nature and wellness take a backseat to her vibrant city interests.\n",
    "</s>\n",
    "<s>[INST] \n",
    "USER: Generate a short description of the user based on their interests, given the following user attributes.\n",
    "PROFILE: {'first_name': 'Danielle', 'last_name': 'Johnson', 'email': 'john21@example.net', 'historical_monuments': True, 'museums': True, 'amusement_park': False, 'nightlife': True, 'cafes': True, 'bars': True, 'camping': True, 'performances': True, 'shopping': False, 'culinary_experiences': True, 'nature': True, 'wellness': True, 'photography': True}\n",
    "WRITER:\n",
    "[/INST]\n",
    "\"\"\"\n",
    "llm(one_shot_prompt)['choices'][0]['text']"
   ]
  },
  {
   "cell_type": "code",
   "execution_count": 27,
   "metadata": {},
   "outputs": [
    {
     "name": "stderr",
     "output_type": "stream",
     "text": [
      "Llama.generate: prefix-match hit\n"
     ]
    },
    {
     "data": {
      "text/plain": [
       "'Matthew Moore is an explorer who enjoys cultural experiences and museums. He finds joy in live performances and has a passion for capturing life’s beauty through photography. Nature and wellness take a backseat to his lively city interests, which include camping under the stars and indulging in culinary adventures.\\n</s>'"
      ]
     },
     "execution_count": 27,
     "metadata": {},
     "output_type": "execute_result"
    }
   ],
   "source": [
    "two_shot_prompt = \"\"\"\n",
    "<s>[INST] <<SYS>>\n",
    "You are a Writer that generates short descriptions of a user based on their attributes. Attributes are given in a JSON format with an attribute key followed by the attribute value. True indicates that the user possesses that attribute. False indicates that the user does not possess that attribute.\n",
    "<</SYS>>\n",
    "\n",
    "USER: Generate a short description of the user based on their interests, given the following user attributes.\n",
    "PROFILE: {'first_name': 'Joy', 'last_name': 'Gardner', 'email': 'fjohnson@example.org', 'historical_monuments': True, 'museums': True, 'amusement_park': True, 'nightlife': False, 'cafes': True, 'bars': False, 'camping': False, 'performances': True, 'shopping': True, 'culinary_experiences': False, 'nature': False, 'wellness': False, 'photography': True}\n",
    "ANSWER: \n",
    "[/INST]\n",
    "Joy Gardner is a cultural enthusiast who enjoys exploring historical monuments, museums, and amusement parks. She finds joy in performances and has an eye for photography. While not a nightlife aficionado, she loves spending time in cafes, indulging in shopping sprees, and capturing memorable moments through her lens. Nature and wellness take a backseat to her vibrant city interests.\n",
    "</s>\n",
    "\n",
    "<s>[INST]\n",
    "USER: Generate a short description of the user based on their interests, given the following user attributes.\n",
    "PROFILE: {'first_name': 'Danielle', 'last_name': 'Johnson', 'email': 'john21@example.net', 'historical_monuments': True, 'museums': True, 'amusement_park': False, 'nightlife': True, 'cafes': True, 'bars': True, 'camping': True, 'performances': True, 'shopping': False, 'culinary_experiences': True, 'nature': True, 'wellness': True, 'photography': True}\n",
    "ANSWER: \n",
    "[/INST]\n",
    "Danielle Johnson is a diverse enthusiast with a passion for history, museums, and cultural performances. She revels in nature and wellness activities, complemented by an appreciation for lively nightlife, cozy cafes, and capturing memorable moments through photography. Shopping takes a backseat to her love for immersive culinary experiences and the great outdoors, where camping becomes an essential part of her adventurous pursuits.\n",
    "</s>\n",
    "\n",
    "<s>[INST] \n",
    "USER: Generate a short description of the user based on their interests, given the following user attributes.\n",
    "PROFILE: {'first_name': Matthew, 'last_name': Moore, 'email': curtis61@example.com, 'historical_monuments': False, 'museums': False, 'amusement_park': True, 'nightlife': False, 'cafes': False, 'bars': True, 'camping': False, 'performances': True, 'shopping': True, 'culinary_experiences': True, 'nature': True, 'wellness': False, 'photography': False}\n",
    "ANSWER:\n",
    "[/INST]\n",
    "\"\"\"\n",
    "llm(two_shot_prompt)['choices'][0]['text']"
   ]
  },
  {
   "cell_type": "code",
   "execution_count": 28,
   "metadata": {},
   "outputs": [
    {
     "name": "stderr",
     "output_type": "stream",
     "text": [
      "Llama.generate: prefix-match hit\n"
     ]
    },
    {
     "data": {
      "text/plain": [
       "'Matthew Moore is an adventurous traveler who loves exploring historical monuments and amusement parks. He prefers the tranquility of nature over bustling nightlife scenes and leisurely hours in cafes and bars. Matthew has a keen interest in culinary experiences, making each trip an opportunity to savor new flavors and discover unique treasures. While not particularly drawn to museums or performances, he finds solace in photography and captures his journey through the lens of exploration.\\n</s>'"
      ]
     },
     "execution_count": 28,
     "metadata": {},
     "output_type": "execute_result"
    }
   ],
   "source": [
    "few_shot_prompt = \"\"\"\n",
    "<s>[INST] <<SYS>>\n",
    "You are a Writer that generates short descriptions of a user based on their attributes. Attributes are given in a JSON format with an attribute key followed by the attribute value. True indicates that the user possesses that attribute. False indicates that the user does not possess that attribute.\n",
    "<</SYS>>\n",
    "\n",
    "USER: Generate a short description of the user based on their interests, given the following user attributes.\n",
    "PROFILE: {'first_name': 'Joy', 'last_name': 'Gardner', 'email': 'fjohnson@example.org', 'historical_monuments': True, 'museums': True, 'amusement_park': True, 'nightlife': False, 'cafes': True, 'bars': False, 'camping': False, 'performances': True, 'shopping': True, 'culinary_experiences': False, 'nature': False, 'wellness': False, 'photography': True}\n",
    "ANSWER: \n",
    "[/INST]\n",
    "Joy Gardner is a cultural enthusiast who enjoys exploring historical monuments, museums, and amusement parks. She finds joy in performances and has an eye for photography. While not a nightlife aficionado, she loves spending time in cafes, indulging in shopping sprees, and capturing memorable moments through her lens. Nature and wellness take a backseat to her vibrant city interests.\n",
    "</s>\n",
    "\n",
    "<s>[INST]\n",
    "USER: Generate a short description of the user based on their interests, given the following user attributes.\n",
    "PROFILE: {'first_name': 'Danielle', 'last_name': 'Johnson', 'email': 'john21@example.net', 'historical_monuments': True, 'museums': True, 'amusement_park': False, 'nightlife': True, 'cafes': True, 'bars': True, 'camping': True, 'performances': True, 'shopping': False, 'culinary_experiences': True, 'nature': True, 'wellness': True, 'photography': True}\n",
    "ANSWER: \n",
    "[/INST]\n",
    "Danielle Johnson is a diverse enthusiast with a passion for history, museums, and cultural performances. She revels in nature and wellness activities, complemented by an appreciation for lively nightlife, cozy cafes, and capturing memorable moments through photography. Shopping takes a backseat to her love for immersive culinary experiences and the great outdoors, where camping becomes an essential part of her adventurous pursuits.\n",
    "</s>\n",
    "\n",
    "<s>[INST]\n",
    "USER: Generate a short description of the user based on their interests, given the following user attributes.\n",
    "PROFILE: {'first_name': Jeffrey, 'last_name': Lawrence, 'email': blakeerik@example.com, 'historical_monuments': True, 'museums': False, 'amusement_park': False, 'nightlife': True, 'cafes': True, 'bars': True, 'camping': True, 'performances': False, 'shopping': True, 'culinary_experiences': True, 'nature': True, 'wellness': False, 'photography': False}\n",
    "ANSWER: \n",
    "[/INST]\n",
    "Jeffrey Lawrence is an eclectic traveler with a penchant for historical monuments and the great outdoors. He enjoys the vibrant nightlife scene and spending leisurely hours in cafes and bars. Jeffrey has a keen interest in culinary experiences and shopping, making each trip an opportunity to savor new flavors and discover unique treasures. While not particularly drawn to museums or performances, he finds solace in nature and captures his journey through the lens of exploration.\n",
    "</s>\n",
    "\n",
    "<s>[INST] \n",
    "USER: Generate a short description of the user based on their interests, given the following user attributes.\n",
    "PROFILE: {'first_name': Matthew, 'last_name': Moore, 'email': curtis61@example.com, 'historical_monuments': False, 'museums': False, 'amusement_park': True, 'nightlife': False, 'cafes': False, 'bars': True, 'camping': False, 'performances': True, 'shopping': True, 'culinary_experiences': True, 'nature': True, 'wellness': False, 'photography': False}\n",
    "ANSWER:\n",
    "[/INST]\n",
    "\"\"\"\n",
    "\n",
    "llm(few_shot_prompt)['choices'][0]['text']"
   ]
  },
  {
   "cell_type": "markdown",
   "metadata": {},
   "source": [
    "# Generate bios"
   ]
  },
  {
   "cell_type": "code",
   "execution_count": 35,
   "metadata": {},
   "outputs": [],
   "source": [
    "# Generate user data\n",
    "user_data = []\n",
    "for _ in range(100):\n",
    "    user = {\n",
    "        'first_name': fake.first_name(),\n",
    "        'last_name': fake.last_name(),\n",
    "        'email': fake.email(),\n",
    "        'historical_monuments': random.choice([True, False]),\n",
    "        'museums': random.choice([True, False]),\n",
    "        'amusement_park': random.choice([True, False]),\n",
    "        'nightlife': random.choice([True, False]),\n",
    "        'cafes': random.choice([True, False]),\n",
    "        'bars': random.choice([True, False]),\n",
    "        'camping': random.choice([True, False]),\n",
    "        'performances': random.choice([True, False]),\n",
    "        'shopping': random.choice([True, False]),\n",
    "        'culinary_experiences': random.choice([True, False]),\n",
    "        'nature': random.choice([True, False]),\n",
    "        'wellness': random.choice([True, False]),\n",
    "        'photography': random.choice([True, False])\n",
    "    }\n",
    "    user_data.append(user)\n",
    "\n",
    "# Create a DataFrame from the user data\n",
    "df = pd.DataFrame(user_data)"
   ]
  },
  {
   "cell_type": "code",
   "execution_count": 47,
   "metadata": {},
   "outputs": [],
   "source": [
    "def generate_bio(row):\n",
    "    prompt = f\"\"\"\n",
    "        <s>[INST] <<SYS>>\n",
    "        You are a Writer that generates short descriptions of a user based on their attributes. Attributes are given in a JSON format with an attribute key followed by the attribute value. True indicates that the user possesses that attribute. False indicates that the user does not possess that attribute.\n",
    "        <</SYS>>\n",
    "\n",
    "        USER: Generate a short description of the user based on their interests, given the following user attributes.\n",
    "        PROFILE: {{'first_name': 'Joy', 'last_name': 'Gardner', 'email': 'fjohnson@example.org', 'historical_monuments': True, 'museums': True, 'amusement_park': True, 'nightlife': False, 'cafes': True, 'bars': False, 'camping': False, 'performances': True, 'shopping': True, 'culinary_experiences': False, 'nature': False, 'wellness': False, 'photography': True}}\n",
    "        ANSWER: \n",
    "        [/INST]\n",
    "        Joy Gardner is a cultural enthusiast who enjoys exploring historical monuments, museums, and amusement parks. She finds joy in performances and has an eye for photography. While not a nightlife aficionado, she loves spending time in cafes, indulging in shopping sprees, and capturing memorable moments through her lens. Nature and wellness take a backseat to her vibrant city interests.\n",
    "        </s>\n",
    "\n",
    "        <s>[INST]\n",
    "        USER: Generate a short description of the user based on their interests, given the following user attributes.\n",
    "        PROFILE: {{'first_name': 'Danielle', 'last_name': 'Johnson', 'email': 'john21@example.net', 'historical_monuments': True, 'museums': True, 'amusement_park': False, 'nightlife': True, 'cafes': True, 'bars': True, 'camping': True, 'performances': True, 'shopping': False, 'culinary_experiences': True, 'nature': True, 'wellness': True, 'photography': True}}\n",
    "        ANSWER: \n",
    "        [/INST]\n",
    "        Danielle Johnson is a diverse enthusiast with a passion for history, museums, and cultural performances. She revels in nature and wellness activities, complemented by an appreciation for lively nightlife, cozy cafes, and capturing memorable moments through photography. Shopping takes a backseat to her love for immersive culinary experiences and the great outdoors, where camping becomes an essential part of her adventurous pursuits.\n",
    "        </s>\n",
    "\n",
    "        <s>[INST]\n",
    "        USER: Generate a short description of the user based on their interests, given the following user attributes.\n",
    "        PROFILE: {{'first_name': Jeffrey, 'last_name': Lawrence, 'email': blakeerik@example.com, 'historical_monuments': True, 'museums': False, 'amusement_park': False, 'nightlife': True, 'cafes': True, 'bars': True, 'camping': True, 'performances': False, 'shopping': True, 'culinary_experiences': True, 'nature': True, 'wellness': False, 'photography': False}}\n",
    "        ANSWER: \n",
    "        [/INST]\n",
    "        Jeffrey Lawrence is an eclectic traveler with a penchant for historical monuments and the great outdoors. He enjoys the vibrant nightlife scene and spending leisurely hours in cafes and bars. Jeffrey has a keen interest in culinary experiences and shopping, making each trip an opportunity to savor new flavors and discover unique treasures. While not particularly drawn to museums or performances, he finds solace in nature and captures his journey through the lens of exploration.\n",
    "        </s>\n",
    "\n",
    "        <s>[INST] \n",
    "        USER: Generate a short description of the user based on their interests, given the following user attributes.\n",
    "        PROFILE: {row.to_dict()}\n",
    "        ANSWER:\n",
    "        [/INST]\n",
    "    \"\"\"\n",
    "    return llm(prompt)['choices'][0]['text']"
   ]
  },
  {
   "cell_type": "code",
   "execution_count": 48,
   "metadata": {},
   "outputs": [
    {
     "name": "stderr",
     "output_type": "stream",
     "text": [
      "Llama.generate: prefix-match hit\n",
      "Llama.generate: prefix-match hit\n",
      "Llama.generate: prefix-match hit\n",
      "Llama.generate: prefix-match hit\n",
      "Llama.generate: prefix-match hit\n",
      "Llama.generate: prefix-match hit\n",
      "Llama.generate: prefix-match hit\n",
      "Llama.generate: prefix-match hit\n",
      "Llama.generate: prefix-match hit\n",
      "Llama.generate: prefix-match hit\n",
      "Llama.generate: prefix-match hit\n",
      "Llama.generate: prefix-match hit\n",
      "Llama.generate: prefix-match hit\n",
      "Llama.generate: prefix-match hit\n",
      "Llama.generate: prefix-match hit\n",
      "Llama.generate: prefix-match hit\n",
      "Llama.generate: prefix-match hit\n",
      "Llama.generate: prefix-match hit\n",
      "Llama.generate: prefix-match hit\n",
      "Llama.generate: prefix-match hit\n",
      "Llama.generate: prefix-match hit\n",
      "Llama.generate: prefix-match hit\n",
      "Llama.generate: prefix-match hit\n",
      "Llama.generate: prefix-match hit\n",
      "Llama.generate: prefix-match hit\n",
      "Llama.generate: prefix-match hit\n",
      "Llama.generate: prefix-match hit\n",
      "Llama.generate: prefix-match hit\n",
      "Llama.generate: prefix-match hit\n",
      "Llama.generate: prefix-match hit\n",
      "Llama.generate: prefix-match hit\n",
      "Llama.generate: prefix-match hit\n",
      "Llama.generate: prefix-match hit\n",
      "Llama.generate: prefix-match hit\n",
      "Llama.generate: prefix-match hit\n",
      "Llama.generate: prefix-match hit\n",
      "Llama.generate: prefix-match hit\n",
      "Llama.generate: prefix-match hit\n",
      "Llama.generate: prefix-match hit\n",
      "Llama.generate: prefix-match hit\n",
      "Llama.generate: prefix-match hit\n",
      "Llama.generate: prefix-match hit\n",
      "Llama.generate: prefix-match hit\n",
      "Llama.generate: prefix-match hit\n",
      "Llama.generate: prefix-match hit\n",
      "Llama.generate: prefix-match hit\n",
      "Llama.generate: prefix-match hit\n",
      "Llama.generate: prefix-match hit\n",
      "Llama.generate: prefix-match hit\n",
      "Llama.generate: prefix-match hit\n",
      "Llama.generate: prefix-match hit\n",
      "Llama.generate: prefix-match hit\n",
      "Llama.generate: prefix-match hit\n",
      "Llama.generate: prefix-match hit\n",
      "Llama.generate: prefix-match hit\n",
      "Llama.generate: prefix-match hit\n",
      "Llama.generate: prefix-match hit\n",
      "Llama.generate: prefix-match hit\n",
      "Llama.generate: prefix-match hit\n",
      "Llama.generate: prefix-match hit\n",
      "Llama.generate: prefix-match hit\n",
      "Llama.generate: prefix-match hit\n",
      "Llama.generate: prefix-match hit\n",
      "Llama.generate: prefix-match hit\n",
      "Llama.generate: prefix-match hit\n",
      "Llama.generate: prefix-match hit\n",
      "Llama.generate: prefix-match hit\n",
      "Llama.generate: prefix-match hit\n",
      "Llama.generate: prefix-match hit\n",
      "Llama.generate: prefix-match hit\n",
      "Llama.generate: prefix-match hit\n",
      "Llama.generate: prefix-match hit\n",
      "Llama.generate: prefix-match hit\n",
      "Llama.generate: prefix-match hit\n",
      "Llama.generate: prefix-match hit\n",
      "Llama.generate: prefix-match hit\n",
      "Llama.generate: prefix-match hit\n",
      "Llama.generate: prefix-match hit\n",
      "Llama.generate: prefix-match hit\n",
      "Llama.generate: prefix-match hit\n",
      "Llama.generate: prefix-match hit\n",
      "Llama.generate: prefix-match hit\n",
      "Llama.generate: prefix-match hit\n",
      "Llama.generate: prefix-match hit\n",
      "Llama.generate: prefix-match hit\n",
      "Llama.generate: prefix-match hit\n",
      "Llama.generate: prefix-match hit\n",
      "Llama.generate: prefix-match hit\n",
      "Llama.generate: prefix-match hit\n",
      "Llama.generate: prefix-match hit\n",
      "Llama.generate: prefix-match hit\n",
      "Llama.generate: prefix-match hit\n",
      "Llama.generate: prefix-match hit\n",
      "Llama.generate: prefix-match hit\n",
      "Llama.generate: prefix-match hit\n",
      "Llama.generate: prefix-match hit\n",
      "Llama.generate: prefix-match hit\n",
      "Llama.generate: prefix-match hit\n",
      "Llama.generate: prefix-match hit\n",
      "Llama.generate: prefix-match hit\n"
     ]
    }
   ],
   "source": [
    "df['bio'] = df.apply(generate_bio, axis=1)"
   ]
  },
  {
   "cell_type": "code",
   "execution_count": 63,
   "metadata": {},
   "outputs": [],
   "source": [
    "# Clean up randomly generate nonsense at the end\n",
    "\n",
    "df['bio'] = df['bio'].apply(lambda x: x.strip().split('\\n')[0])"
   ]
  },
  {
   "cell_type": "code",
   "execution_count": 66,
   "metadata": {},
   "outputs": [],
   "source": [
    "df.to_json('user_data.json', orient='records')"
   ]
  }
 ],
 "metadata": {
  "kernelspec": {
   "display_name": "base",
   "language": "python",
   "name": "python3"
  },
  "language_info": {
   "codemirror_mode": {
    "name": "ipython",
    "version": 3
   },
   "file_extension": ".py",
   "mimetype": "text/x-python",
   "name": "python",
   "nbconvert_exporter": "python",
   "pygments_lexer": "ipython3",
   "version": "3.9.7"
  },
  "orig_nbformat": 4
 },
 "nbformat": 4,
 "nbformat_minor": 2
}
