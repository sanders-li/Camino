{
 "cells": [
  {
   "cell_type": "code",
   "execution_count": 1,
   "metadata": {},
   "outputs": [],
   "source": [
    "from UserInventory import User, Trip, Inventory\n",
    "import pandas as pd"
   ]
  },
  {
   "cell_type": "markdown",
   "metadata": {},
   "source": [
    "# Generate user attributes"
   ]
  },
  {
   "cell_type": "markdown",
   "metadata": {},
   "source": [
    "future considerations:\n",
    "    \"road_trips\": False,\n",
    "    \"early_bird\": False,\n",
    "    \"public_transportation\": False,"
   ]
  },
  {
   "cell_type": "code",
   "execution_count": 2,
   "metadata": {},
   "outputs": [],
   "source": [
    "interests = {\n",
    "    \"historical_monuments\": False,\n",
    "    \"museums\": True,\n",
    "    \"amusement_park\": False,\n",
    "    \"nightlife\": False,\n",
    "    \"cafes\": True,\n",
    "    \"bars\": True,\n",
    "    \"camping\": False,\n",
    "    \"performances\": False,\n",
    "    \"shopping\": False,\n",
    "    \"culinary_experiences\": False,\n",
    "    \"nature\": True,\n",
    "    \"wellness\": False,\n",
    "    \"photography\": True,\n",
    "}\n",
    "test_user = User(1, \"Sanders\", \"Li\", \"sl3239@gmail.com\", interests, bio=\"I'm looking to explore the world\")"
   ]
  },
  {
   "cell_type": "code",
   "execution_count": 9,
   "metadata": {},
   "outputs": [
    {
     "data": {
      "text/plain": [
       "Index(['first_name', 'last_name', 'email', 'bio', 'full_description',\n",
       "       'historical_monuments', 'museums', 'amusement_park', 'nightlife',\n",
       "       'cafes', 'bars', 'camping', 'performances', 'shopping',\n",
       "       'culinary_experiences', 'nature', 'wellness', 'photography'],\n",
       "      dtype='object')"
      ]
     },
     "execution_count": 9,
     "metadata": {},
     "output_type": "execute_result"
    }
   ],
   "source": [
    "test_user_attributes = test_user.convert()\n",
    "test_user_attributes.index"
   ]
  },
  {
   "cell_type": "code",
   "execution_count": null,
   "metadata": {},
   "outputs": [],
   "source": []
  }
 ],
 "metadata": {
  "kernelspec": {
   "display_name": "base",
   "language": "python",
   "name": "python3"
  },
  "language_info": {
   "codemirror_mode": {
    "name": "ipython",
    "version": 3
   },
   "file_extension": ".py",
   "mimetype": "text/x-python",
   "name": "python",
   "nbconvert_exporter": "python",
   "pygments_lexer": "ipython3",
   "version": "3.9.7"
  },
  "orig_nbformat": 4
 },
 "nbformat": 4,
 "nbformat_minor": 2
}
