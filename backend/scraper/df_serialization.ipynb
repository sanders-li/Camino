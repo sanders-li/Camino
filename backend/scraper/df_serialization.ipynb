{
 "cells": [
  {
   "cell_type": "code",
   "execution_count": 1,
   "metadata": {},
   "outputs": [],
   "source": [
    "import os\n",
    "import sys\n",
    "from Sights_DB_DF import Sights_DB\n",
    "from PlaceExplorer import GooglePlacesExplorer\n",
    "import json"
   ]
  },
  {
   "cell_type": "code",
   "execution_count": 2,
   "metadata": {},
   "outputs": [],
   "source": [
    "with open('db_access.json', 'r') as f:\n",
    "    sights_access = json.load(f)\n",
    "with Sights_DB(sights_access) as db:\n",
    "    df = db.load('sights', 'tokyo')"
   ]
  },
  {
   "cell_type": "code",
   "execution_count": 3,
   "metadata": {},
   "outputs": [
    {
     "data": {
      "text/html": [
       "<div>\n",
       "<style scoped>\n",
       "    .dataframe tbody tr th:only-of-type {\n",
       "        vertical-align: middle;\n",
       "    }\n",
       "\n",
       "    .dataframe tbody tr th {\n",
       "        vertical-align: top;\n",
       "    }\n",
       "\n",
       "    .dataframe thead th {\n",
       "        text-align: right;\n",
       "    }\n",
       "</style>\n",
       "<table border=\"1\" class=\"dataframe\">\n",
       "  <thead>\n",
       "    <tr style=\"text-align: right;\">\n",
       "      <th></th>\n",
       "      <th>address</th>\n",
       "      <th>address_components</th>\n",
       "      <th>category</th>\n",
       "      <th>city</th>\n",
       "      <th>country</th>\n",
       "      <th>descrip_long</th>\n",
       "      <th>descrip_title</th>\n",
       "      <th>location</th>\n",
       "      <th>name</th>\n",
       "      <th>opening_hours</th>\n",
       "      <th>opening_hours_text</th>\n",
       "      <th>phone_num_dom</th>\n",
       "      <th>phone_num_intl</th>\n",
       "      <th>photo</th>\n",
       "      <th>photo_attributions</th>\n",
       "      <th>place_id</th>\n",
       "      <th>rating</th>\n",
       "      <th>tags</th>\n",
       "      <th>visit_time</th>\n",
       "    </tr>\n",
       "  </thead>\n",
       "  <tbody>\n",
       "    <tr>\n",
       "      <th>0</th>\n",
       "      <td>2-chōme-3-1 Asakusa, Taito City, Tōkyō-to 111-...</td>\n",
       "      <td>[{\"long_name\": \"1\", \"short_name\": \"1\", \"types\"...</td>\n",
       "      <td>Temple</td>\n",
       "      <td>tokyo</td>\n",
       "      <td>japan</td>\n",
       "      <td>Sensō-ji is an ancient Buddhist temple located...</td>\n",
       "      <td>Historic temple to the goddess of mercy</td>\n",
       "      <td>[35.7147651, 139.7966553]</td>\n",
       "      <td>Sensō-ji</td>\n",
       "      <td>[]</td>\n",
       "      <td>[]</td>\n",
       "      <td>03-3842-0181</td>\n",
       "      <td>+81 3-3842-0181</td>\n",
       "      <td>b'\\xff\\xd8\\xff\\xe0\\x00\\x10JFIF\\x00\\x01\\x01\\x00...</td>\n",
       "      <td>[&lt;a href=\"https://maps.google.com/maps/contrib...</td>\n",
       "      <td>ChIJ8T1GpMGOGGARDYGSgpooDWw</td>\n",
       "      <td>4.5</td>\n",
       "      <td>[civic_structure, place, place_of_worship, cem...</td>\n",
       "      <td>None</td>\n",
       "    </tr>\n",
       "    <tr>\n",
       "      <th>1</th>\n",
       "      <td>1-chōme-1-2 Oshiage, Sumida City, Tōkyō-to 131...</td>\n",
       "      <td>[{\"long_name\": \"2\", \"short_name\": \"2\", \"types\"...</td>\n",
       "      <td>Tower</td>\n",
       "      <td>tokyo</td>\n",
       "      <td>japan</td>\n",
       "      <td>Tokyo Skytree is a broadcasting and observatio...</td>\n",
       "      <td>Huge tower with an observation deck</td>\n",
       "      <td>[35.71006269999999, 139.8107004]</td>\n",
       "      <td>Tokyo Skytree</td>\n",
       "      <td>[{\"close\": {\"day\": 0, \"time\": \"2100\"}, \"open\":...</td>\n",
       "      <td>[Monday: 9:00 AM – 9:00 PM, Tuesday: 9:00 AM –...</td>\n",
       "      <td>0570-550-634</td>\n",
       "      <td>+81 570-550-634</td>\n",
       "      <td>b'\\xff\\xd8\\xff\\xe0\\x00\\x10JFIF\\x00\\x01\\x01\\x00...</td>\n",
       "      <td>[&lt;a href=\"https://maps.google.com/maps/contrib...</td>\n",
       "      <td>ChIJ35ov0dCOGGARKvdDH7NPHX0</td>\n",
       "      <td>4.4</td>\n",
       "      <td>[civic_structure, tourist_attraction, place, p...</td>\n",
       "      <td>None</td>\n",
       "    </tr>\n",
       "    <tr>\n",
       "      <th>2</th>\n",
       "      <td>1-1 Yoyogikamizonochō, Shibuya City, Tōkyō-to ...</td>\n",
       "      <td>[{\"long_name\": \"1\", \"short_name\": \"1\", \"types\"...</td>\n",
       "      <td>None</td>\n",
       "      <td>tokyo</td>\n",
       "      <td>japan</td>\n",
       "      <td>Meiji Shrine, located in Shibuya, Tokyo, is th...</td>\n",
       "      <td>Famed Shinto shrine with a garden</td>\n",
       "      <td>[35.67639760000001, 139.6993259]</td>\n",
       "      <td>Meiji Jingu</td>\n",
       "      <td>[{\"close\": {\"day\": 0, \"time\": \"1800\"}, \"open\":...</td>\n",
       "      <td>[Monday: 5:00 AM – 6:00 PM, Tuesday: 5:00 AM –...</td>\n",
       "      <td>03-3379-5511</td>\n",
       "      <td>+81 3-3379-5511</td>\n",
       "      <td>b'\\xff\\xd8\\xff\\xe0\\x00\\x10JFIF\\x00\\x01\\x01\\x00...</td>\n",
       "      <td>[&lt;a href=\"https://maps.google.com/maps/contrib...</td>\n",
       "      <td>ChIJ5SZMmreMGGARcz8QSTiJyo8</td>\n",
       "      <td>4.6</td>\n",
       "      <td>[tourist_attraction, place_of_worship, establi...</td>\n",
       "      <td>None</td>\n",
       "    </tr>\n",
       "  </tbody>\n",
       "</table>\n",
       "</div>"
      ],
      "text/plain": [
       "                                             address  \\\n",
       "0  2-chōme-3-1 Asakusa, Taito City, Tōkyō-to 111-...   \n",
       "1  1-chōme-1-2 Oshiage, Sumida City, Tōkyō-to 131...   \n",
       "2  1-1 Yoyogikamizonochō, Shibuya City, Tōkyō-to ...   \n",
       "\n",
       "                                  address_components category   city country  \\\n",
       "0  [{\"long_name\": \"1\", \"short_name\": \"1\", \"types\"...   Temple  tokyo   japan   \n",
       "1  [{\"long_name\": \"2\", \"short_name\": \"2\", \"types\"...    Tower  tokyo   japan   \n",
       "2  [{\"long_name\": \"1\", \"short_name\": \"1\", \"types\"...     None  tokyo   japan   \n",
       "\n",
       "                                        descrip_long  \\\n",
       "0  Sensō-ji is an ancient Buddhist temple located...   \n",
       "1  Tokyo Skytree is a broadcasting and observatio...   \n",
       "2  Meiji Shrine, located in Shibuya, Tokyo, is th...   \n",
       "\n",
       "                             descrip_title                          location  \\\n",
       "0  Historic temple to the goddess of mercy         [35.7147651, 139.7966553]   \n",
       "1      Huge tower with an observation deck  [35.71006269999999, 139.8107004]   \n",
       "2        Famed Shinto shrine with a garden  [35.67639760000001, 139.6993259]   \n",
       "\n",
       "            name                                      opening_hours  \\\n",
       "0       Sensō-ji                                                 []   \n",
       "1  Tokyo Skytree  [{\"close\": {\"day\": 0, \"time\": \"2100\"}, \"open\":...   \n",
       "2    Meiji Jingu  [{\"close\": {\"day\": 0, \"time\": \"1800\"}, \"open\":...   \n",
       "\n",
       "                                  opening_hours_text phone_num_dom  \\\n",
       "0                                                 []  03-3842-0181   \n",
       "1  [Monday: 9:00 AM – 9:00 PM, Tuesday: 9:00 AM –...  0570-550-634   \n",
       "2  [Monday: 5:00 AM – 6:00 PM, Tuesday: 5:00 AM –...  03-3379-5511   \n",
       "\n",
       "    phone_num_intl                                              photo  \\\n",
       "0  +81 3-3842-0181  b'\\xff\\xd8\\xff\\xe0\\x00\\x10JFIF\\x00\\x01\\x01\\x00...   \n",
       "1  +81 570-550-634  b'\\xff\\xd8\\xff\\xe0\\x00\\x10JFIF\\x00\\x01\\x01\\x00...   \n",
       "2  +81 3-3379-5511  b'\\xff\\xd8\\xff\\xe0\\x00\\x10JFIF\\x00\\x01\\x01\\x00...   \n",
       "\n",
       "                                  photo_attributions  \\\n",
       "0  [<a href=\"https://maps.google.com/maps/contrib...   \n",
       "1  [<a href=\"https://maps.google.com/maps/contrib...   \n",
       "2  [<a href=\"https://maps.google.com/maps/contrib...   \n",
       "\n",
       "                      place_id  rating  \\\n",
       "0  ChIJ8T1GpMGOGGARDYGSgpooDWw     4.5   \n",
       "1  ChIJ35ov0dCOGGARKvdDH7NPHX0     4.4   \n",
       "2  ChIJ5SZMmreMGGARcz8QSTiJyo8     4.6   \n",
       "\n",
       "                                                tags visit_time  \n",
       "0  [civic_structure, place, place_of_worship, cem...       None  \n",
       "1  [civic_structure, tourist_attraction, place, p...       None  \n",
       "2  [tourist_attraction, place_of_worship, establi...       None  "
      ]
     },
     "execution_count": 3,
     "metadata": {},
     "output_type": "execute_result"
    }
   ],
   "source": [
    "df.head()"
   ]
  },
  {
   "cell_type": "code",
   "execution_count": 4,
   "metadata": {},
   "outputs": [
    {
     "data": {
      "text/plain": [
       "str"
      ]
     },
     "execution_count": 4,
     "metadata": {},
     "output_type": "execute_result"
    }
   ],
   "source": [
    "type(df.opening_hours[0])"
   ]
  },
  {
   "cell_type": "code",
   "execution_count": 5,
   "metadata": {},
   "outputs": [],
   "source": [
    "opening_hours = json.loads(df.opening_hours[0])"
   ]
  },
  {
   "cell_type": "code",
   "execution_count": 6,
   "metadata": {},
   "outputs": [
    {
     "data": {
      "text/plain": [
       "list"
      ]
     },
     "execution_count": 6,
     "metadata": {},
     "output_type": "execute_result"
    }
   ],
   "source": [
    "type(opening_hours)"
   ]
  },
  {
   "cell_type": "code",
   "execution_count": 7,
   "metadata": {},
   "outputs": [],
   "source": [
    "from Place import Sight\n",
    "\n",
    "sight = Sight(df.loc[0].to_dict())"
   ]
  },
  {
   "cell_type": "code",
   "execution_count": 10,
   "metadata": {},
   "outputs": [
    {
     "name": "stdout",
     "output_type": "stream",
     "text": [
      "tags <class 'set'>: {'place', 'point_of_interest', 'cemetery', 'thing', 'place_of_worship', 'civic_structure', 'tourist_attraction', 'establishment'}\n",
      "place_id <class 'NoneType'>: None\n",
      "name <class 'str'>: Sensō-ji\n",
      "city <class 'str'>: tokyo\n",
      "country <class 'str'>: japan\n",
      "address <class 'str'>: 2-chōme-3-1 Asakusa, Taito City, Tōkyō-to 111-0032, Japan\n",
      "address_components <class 'list'>: [{'long_name': '1', 'short_name': '1', 'types': ['premise']}, {'long_name': '3', 'short_name': '3', 'types': ['sublocality_level_4', 'sublocality', 'political']}, {'long_name': '2-chōme', 'short_name': '2-chōme', 'types': ['sublocality_level_3', 'sublocality', 'political']}, {'long_name': 'Asakusa', 'short_name': 'Asakusa', 'types': ['sublocality_level_2', 'sublocality', 'political']}, {'long_name': 'Taito City', 'short_name': 'Taito City', 'types': ['locality', 'political']}, {'long_name': 'Tōkyō-to', 'short_name': 'Tōkyō-to', 'types': ['administrative_area_level_1', 'political']}, {'long_name': 'Japan', 'short_name': 'JP', 'types': ['country', 'political']}, {'long_name': '111-0032', 'short_name': '111-0032', 'types': ['postal_code']}]\n",
      "_location <class 'Place.Location'>: Location(lat=Decimal('35.7147651'), lng=Decimal('139.7966553'))\n",
      "rating <class 'numpy.float64'>: 4.5\n",
      "visit_time <class 'NoneType'>: None\n",
      "phone_num_dom <class 'str'>: 03-3842-0181\n",
      "phone_num_intl <class 'str'>: +81 3-3842-0181\n",
      "photo <class 'bytes'>: **BYTESARRAY**\n",
      "photo_attributions <class 'list'>: ['<a href=\"https://maps.google.com/maps/contrib/113094236364385106129\">Dmitry Safronov</a>']\n",
      "category <class 'str'>: Temple\n",
      "descrip_title <class 'str'>: Historic temple to the goddess of mercy\n",
      "descrip_long <class 'str'>: Sensō-ji is an ancient Buddhist temple located in Asakusa, Tokyo, Japan. It is Tokyo's oldest temple, and one of its most significant. Formerly associated with the Tendai sect of Buddhism, it became independent after World War II. \n",
      "opening_hours <class 'list'>: []\n",
      "opening_hours_text <class 'list'>: []\n",
      "\n"
     ]
    }
   ],
   "source": [
    "print(sight)"
   ]
  },
  {
   "cell_type": "code",
   "execution_count": null,
   "metadata": {},
   "outputs": [],
   "source": []
  }
 ],
 "metadata": {
  "kernelspec": {
   "display_name": "Python 3",
   "language": "python",
   "name": "python3"
  },
  "language_info": {
   "codemirror_mode": {
    "name": "ipython",
    "version": 3
   },
   "file_extension": ".py",
   "mimetype": "text/x-python",
   "name": "python",
   "nbconvert_exporter": "python",
   "pygments_lexer": "ipython3",
   "version": "3.8.3"
  }
 },
 "nbformat": 4,
 "nbformat_minor": 4
}
