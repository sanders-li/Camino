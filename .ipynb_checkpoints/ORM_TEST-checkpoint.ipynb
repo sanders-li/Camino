{
 "cells": [
  {
   "cell_type": "code",
   "execution_count": 1,
   "metadata": {},
   "outputs": [],
   "source": [
    "import sqlalchemy\n",
    "from sqlalchemy import Table, MetaData, Column, String\n",
    "from sqlalchemy.orm import sessionmaker, mapper\n",
    "import json\n",
    "import os\n",
    "from Place import Sight"
   ]
  },
  {
   "cell_type": "code",
   "execution_count": 2,
   "metadata": {},
   "outputs": [
    {
     "name": "stdout",
     "output_type": "stream",
     "text": [
      "2020-08-04 13:18:27,203 INFO sqlalchemy.engine.base.Engine select version()\n",
      "2020-08-04 13:18:27,205 INFO sqlalchemy.engine.base.Engine {}\n",
      "2020-08-04 13:18:27,207 INFO sqlalchemy.engine.base.Engine select current_schema()\n",
      "2020-08-04 13:18:27,208 INFO sqlalchemy.engine.base.Engine {}\n",
      "2020-08-04 13:18:27,210 INFO sqlalchemy.engine.base.Engine SELECT CAST('test plain returns' AS VARCHAR(60)) AS anon_1\n",
      "2020-08-04 13:18:27,212 INFO sqlalchemy.engine.base.Engine {}\n",
      "2020-08-04 13:18:27,214 INFO sqlalchemy.engine.base.Engine SELECT CAST('test unicode returns' AS VARCHAR(60)) AS anon_1\n",
      "2020-08-04 13:18:27,215 INFO sqlalchemy.engine.base.Engine {}\n",
      "2020-08-04 13:18:27,216 INFO sqlalchemy.engine.base.Engine show standard_conforming_strings\n",
      "2020-08-04 13:18:27,217 INFO sqlalchemy.engine.base.Engine {}\n"
     ]
    }
   ],
   "source": [
    "with open('db_verification.json', 'r') as f:\n",
    "    access_dict = json.load(f)\n",
    "engine_URI = 'postgresql+psycopg2://{}:{}@{}:{}/{}'.format(access_dict['user'], access_dict['password'], access_dict['host'], access_dict['port'], access_dict['database'])\n",
    "engine = sqlalchemy.create_engine(engine_URI, echo=True)\n",
    "conn = engine.connect()\n",
    "\n",
    "with open('tokyo_sights.json', 'r') as f:\n",
    "    sights_dict = json.load(f)"
   ]
  },
  {
   "cell_type": "code",
   "execution_count": 3,
   "metadata": {},
   "outputs": [
    {
     "data": {
      "text/plain": [
       "<Mapper at 0x1e5c398c100; Sight>"
      ]
     },
     "execution_count": 3,
     "metadata": {},
     "output_type": "execute_result"
    }
   ],
   "source": [
    "meta = MetaData()\n",
    "sight = Table('sights_orm', meta, Column('place_id', String, primary_key=True))\n",
    "mapper(Sight, sight)"
   ]
  },
  {
   "cell_type": "code",
   "execution_count": 7,
   "metadata": {},
   "outputs": [
    {
     "name": "stdout",
     "output_type": "stream",
     "text": [
      "2020-08-04 13:19:45,478 INFO sqlalchemy.engine.base.Engine select relname from pg_class c join pg_namespace n on n.oid=c.relnamespace where pg_catalog.pg_table_is_visible(c.oid) and relname=%(name)s\n",
      "2020-08-04 13:19:45,479 INFO sqlalchemy.engine.base.Engine {'name': 'sights_orm'}\n"
     ]
    }
   ],
   "source": [
    "meta.create_all(engine)"
   ]
  },
  {
   "cell_type": "code",
   "execution_count": 9,
   "metadata": {},
   "outputs": [
    {
     "data": {
      "text/plain": [
       "IdentitySet([<Place.Sight object at 0x000001E5C5F551F0>])"
      ]
     },
     "execution_count": 9,
     "metadata": {},
     "output_type": "execute_result"
    }
   ],
   "source": [
    "Session = sessionmaker(bind=engine)\n",
    "session = Session()\n",
    "session.add_all([Sight(sights_dict[0])])\n",
    "\n",
    "session.new"
   ]
  },
  {
   "cell_type": "code",
   "execution_count": null,
   "metadata": {},
   "outputs": [],
   "source": [
    "session.commit()"
   ]
  }
 ],
 "metadata": {
  "language_info": {
   "codemirror_mode": {
    "name": "ipython",
    "version": 3
   },
   "file_extension": ".py",
   "mimetype": "text/x-python",
   "name": "python",
   "nbconvert_exporter": "python",
   "pygments_lexer": "ipython3",
   "version": "3.8.3"
  }
 },
 "nbformat": 4,
 "nbformat_minor": 4
}
