{
 "cells": [
  {
   "cell_type": "code",
   "execution_count": 1,
   "metadata": {},
   "outputs": [
    {
     "ename": "ModuleNotFoundError",
     "evalue": "No module named 'adjustText'",
     "output_type": "error",
     "traceback": [
      "\u001b[1;31m---------------------------------------------------------------------------\u001b[0m",
      "\u001b[1;31mModuleNotFoundError\u001b[0m                       Traceback (most recent call last)",
      "\u001b[1;32m<ipython-input-1-3ed280b5d2f9>\u001b[0m in \u001b[0;36m<module>\u001b[1;34m\u001b[0m\n\u001b[1;32m----> 1\u001b[1;33m \u001b[1;32mfrom\u001b[0m \u001b[0mRouteFinder\u001b[0m \u001b[1;32mimport\u001b[0m \u001b[0mRouteFinder\u001b[0m\u001b[1;33m\u001b[0m\u001b[1;33m\u001b[0m\u001b[0m\n\u001b[0m\u001b[0;32m      2\u001b[0m \u001b[1;32mimport\u001b[0m \u001b[0mpandas\u001b[0m \u001b[1;32mas\u001b[0m \u001b[0mpd\u001b[0m\u001b[1;33m\u001b[0m\u001b[1;33m\u001b[0m\u001b[0m\n\u001b[0;32m      3\u001b[0m \u001b[1;32mfrom\u001b[0m \u001b[0mcollections\u001b[0m \u001b[1;32mimport\u001b[0m \u001b[0mnamedtuple\u001b[0m\u001b[1;33m\u001b[0m\u001b[1;33m\u001b[0m\u001b[0m\n",
      "\u001b[1;32m~\\Camino\\RouteFinder.py\u001b[0m in \u001b[0;36m<module>\u001b[1;34m\u001b[0m\n\u001b[0;32m      8\u001b[0m \u001b[1;32mfrom\u001b[0m \u001b[0mcollections\u001b[0m \u001b[1;32mimport\u001b[0m \u001b[0mnamedtuple\u001b[0m\u001b[1;33m\u001b[0m\u001b[1;33m\u001b[0m\u001b[0m\n\u001b[0;32m      9\u001b[0m \u001b[1;32mfrom\u001b[0m \u001b[0mSightScraper\u001b[0m \u001b[1;32mimport\u001b[0m \u001b[0mWebAPIRequestHandler\u001b[0m\u001b[1;33m\u001b[0m\u001b[1;33m\u001b[0m\u001b[0m\n\u001b[1;32m---> 10\u001b[1;33m \u001b[1;32mfrom\u001b[0m \u001b[0madjustText\u001b[0m \u001b[1;32mimport\u001b[0m \u001b[0madjust_text\u001b[0m\u001b[1;33m\u001b[0m\u001b[1;33m\u001b[0m\u001b[0m\n\u001b[0m\u001b[0;32m     11\u001b[0m \u001b[1;33m\u001b[0m\u001b[0m\n\u001b[0;32m     12\u001b[0m \u001b[1;32mclass\u001b[0m \u001b[0mRouteFinder\u001b[0m\u001b[1;33m:\u001b[0m\u001b[1;33m\u001b[0m\u001b[1;33m\u001b[0m\u001b[0m\n",
      "\u001b[1;31mModuleNotFoundError\u001b[0m: No module named 'adjustText'"
     ]
    }
   ],
   "source": [
    "from RouteFinder import RouteFinder\n",
    "import pandas as pd\n",
    "from collections import namedtuple"
   ]
  },
  {
   "cell_type": "code",
   "execution_count": null,
   "metadata": {},
   "outputs": [],
   "source": [
    "'''File must be in json'''\n",
    "sights_list = []\n",
    "sights_df = pd.read_json('sights.json')\n",
    "\n",
    "data = {}\n",
    "Location = namedtuple('Location', ['lat', 'lng'])\n",
    "data['names'] = ['Dormy Inn Akihabara']\n",
    "data['names'] += [name for name in sights_df['name']]\n",
    "data['locations'] = [Location(35.702540, 139.773290)]\n",
    "data['locations'] += [Location(point.location[0], point.location[1]) for point in sights_df.itertuples()]\n",
    "data['num_locations'] = len(data['locations'])\n",
    "data['hotel_index'] = 0\n",
    "\n",
    "#Rest of this is test stuff, find a way to transform the data\n",
    "data['time_windows'] = [(480,480)] + [(480,1020) for i in range(data['num_locations']-1)]\n",
    "data['visit_times'] = [0] + [90 for i in range(data['num_locations']-1)]\n",
    "data['length_of_stay'] = 3\n",
    "data['available_time'] = [1440 for i in range(data['length_of_stay'])]\n",
    "\n",
    "routefinder = RouteFinder(data)\n",
    "routefinder.bb = routefinder.get_bb(routefinder.data['locations'])"
   ]
  },
  {
   "cell_type": "code",
   "execution_count": null,
   "metadata": {},
   "outputs": [],
   "source": [
    "def add_time_window_constraints(routing, manager, time_evaluator_index):\n",
    "    time = 'Time'\n",
    "    routing.AddDimension(\n",
    "        time_evaluator_index,\n",
    "        15,  # allow waiting time\n",
    "        1440,  # maximum time per vehicle\n",
    "        False,  # don't start cumul to zero since we are giving TW to start nodes\n",
    "        time)\n",
    "    time_dimension = routing.GetDimensionOrDie(time)\n",
    "    # Add time window constraints for each location except depot\n",
    "    # Include slack in solution object\n",
    "    for location_idx, time_window in enumerate(data['time_windows']):\n",
    "        if location_idx == 0:\n",
    "            continue\n",
    "        index = manager.NodeToIndex(location_idx)\n",
    "        time_dimension.CumulVar(index).SetRange(time_window[0], time_window[1])\n",
    "        routing.AddToAssignment(time_dimension.SlackVar(index))\n",
    "    # Add time window constraints for each vehicle start node\n",
    "    # Include slack in solution object\n",
    "    for day in range(data['length_of_stay']):\n",
    "        index = routing.Start(day)\n",
    "        time_dimension.CumulVar(index).SetRange(data['time_windows'][0][0],\n",
    "                                                data['time_windows'][0][1])\n",
    "        routing.AddToAssignment(time_dimension.SlackVar(index))\n",
    "    \n",
    "    # Route start and end times\n",
    "    for i in range(data['length_of_stay']):\n",
    "        routing.AddVariableMinimizedByFinalizer(time_dimension.CumulVar(routing.Start(i)))\n",
    "        routing.AddVariableMinimizedByFinalizer(time_dimension.CumulVar(routing.End(i)))"
   ]
  },
  {
   "cell_type": "code",
   "execution_count": null,
   "metadata": {},
   "outputs": [],
   "source": [
    "def add_capacity_constraints(routing, demand_evaluator_index):\n",
    "    \"\"\"Adds capacity constraint\"\"\"\n",
    "    capacity = 'Capacity'\n",
    "    routing.AddDimensionWithVehicleCapacity(\n",
    "        demand_evaluator_index,\n",
    "        0,  # capacity slack\n",
    "        data['available_time'],\n",
    "        True,  # start cumul to zero\n",
    "        capacity)"
   ]
  },
  {
   "cell_type": "code",
   "execution_count": null,
   "metadata": {},
   "outputs": [],
   "source": [
    "routefinder.add_capacity_constraints = add_capacity_constraints\n",
    "routefinder.add_time_window_constraints = add_time_window_constraints\n",
    "\n",
    "routefinder.solve()\n",
    "routefinder.print_solution()"
   ]
  },
  {
   "cell_type": "code",
   "execution_count": null,
   "metadata": {},
   "outputs": [],
   "source": [
    "routefinder.visualize()"
   ]
  }
 ],
 "metadata": {
  "kernelspec": {
   "display_name": "Python 3",
   "language": "python",
   "name": "python3"
  },
  "language_info": {
   "codemirror_mode": {
    "name": "ipython",
    "version": 3
   },
   "file_extension": ".py",
   "mimetype": "text/x-python",
   "name": "python",
   "nbconvert_exporter": "python",
   "pygments_lexer": "ipython3",
   "version": "3.8.3"
  }
 },
 "nbformat": 4,
 "nbformat_minor": 4
}
