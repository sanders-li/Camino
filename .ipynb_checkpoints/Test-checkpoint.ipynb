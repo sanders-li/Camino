{
 "cells": [
  {
   "cell_type": "code",
   "execution_count": 1,
   "metadata": {},
   "outputs": [],
   "source": [
    "import json\n",
    "from Sights_DB_DF import Sights_DB"
   ]
  },
  {
   "cell_type": "code",
   "execution_count": 2,
   "metadata": {},
   "outputs": [
    {
     "name": "stdout",
     "output_type": "stream",
     "text": [
      "Closed db\n"
     ]
    }
   ],
   "source": [
    "with open('db_verification.json', 'r') as f:\n",
    "    access_dict = json.load(f)\n",
    "with Sights_DB(access_dict) as sights_db:\n",
    "    df = sights_db.load_sights('Tokyo')"
   ]
  },
  {
   "cell_type": "code",
   "execution_count": 5,
   "metadata": {},
   "outputs": [
    {
     "name": "stdout",
     "output_type": "stream",
     "text": [
      "[{'long_name': '1', 'short_name': '1', 'types': ['premise']}, {'long_name': '3', 'short_name': '3', 'types': ['sublocality_level_4', 'sublocality', 'political']}, {'long_name': '2-chōme', 'short_name': '2-chōme', 'types': ['sublocality_level_3', 'sublocality', 'political']}, {'long_name': 'Asakusa', 'short_name': 'Asakusa', 'types': ['sublocality_level_2', 'sublocality', 'political']}, {'long_name': 'Taito City', 'short_name': 'Taito City', 'types': ['locality', 'political']}, {'long_name': 'Tōkyō-to', 'short_name': 'Tōkyō-to', 'types': ['administrative_area_level_1', 'political']}, {'long_name': 'Japan', 'short_name': 'JP', 'types': ['country', 'political']}, {'long_name': '111-0032', 'short_name': '111-0032', 'types': ['postal_code']}]\n"
     ]
    },
    {
     "data": {
      "text/plain": [
       "dict"
      ]
     },
     "execution_count": 5,
     "metadata": {},
     "output_type": "execute_result"
    }
   ],
   "source": [
    "add_c = df['address_components'][0]\n",
    "print(add_c)\n",
    "type(add_c[0])"
   ]
  }
 ],
 "metadata": {
  "kernelspec": {
   "display_name": "Python 3",
   "language": "python",
   "name": "python3"
  },
  "language_info": {
   "codemirror_mode": {
    "name": "ipython",
    "version": 3
   },
   "file_extension": ".py",
   "mimetype": "text/x-python",
   "name": "python",
   "nbconvert_exporter": "python",
   "pygments_lexer": "ipython3",
   "version": "3.8.3"
  }
 },
 "nbformat": 4,
 "nbformat_minor": 4
}
